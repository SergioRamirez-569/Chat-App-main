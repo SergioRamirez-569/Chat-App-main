{
 "cells": [
  {
   "cell_type": "code",
   "execution_count": 11,
   "id": "7420bef1",
   "metadata": {},
   "outputs": [
    {
     "name": "stdout",
     "output_type": "stream",
     "text": [
      "b'\\x80\\x05\\x95\\x08\\x00\\x00\\x00\\x00\\x00\\x00\\x00\\x8c\\x04hola\\x94.'\n"
     ]
    }
   ],
   "source": [
    "import pickle \n",
    "\n",
    "data_string = pickle.dumps(\"hola\", -1) \n",
    "\n",
    "#\"data_loaded = pickle.loads(\"hola\")\n",
    "\n",
    "print(data_string)"
   ]
  },
  {
   "cell_type": "code",
   "execution_count": 12,
   "id": "1ca8fd12",
   "metadata": {},
   "outputs": [
    {
     "name": "stdout",
     "output_type": "stream",
     "text": [
      "b'\\x80\\x04\\x95\\x16\\x00\\x00\\x00\\x00\\x00\\x00\\x00}\\x94(K\\x01\\x8c\\x02hi\\x94K\\x02\\x8c\\x05there\\x94u.'\n"
     ]
    }
   ],
   "source": [
    "import pickle\n",
    "d = {1: \"hi\",\n",
    "      2: \"there\"}\n",
    "msg = pickle.dumps(d)\n",
    "print(msg)"
   ]
  },
  {
   "cell_type": "code",
   "execution_count": 18,
   "id": "7fc43297",
   "metadata": {},
   "outputs": [
    {
     "name": "stdout",
     "output_type": "stream",
     "text": [
      "John\n"
     ]
    }
   ],
   "source": [
    "data = {}\n",
    "name = \"John\"\n",
    "age = 20\n",
    "for variable in [\"name\", \"age\"]:\n",
    "    data[variable] = eval(variable)\n",
    "print(data[\"name\"])"
   ]
  },
  {
   "cell_type": "code",
   "execution_count": null,
   "id": "4257134d",
   "metadata": {},
   "outputs": [],
   "source": []
  }
 ],
 "metadata": {
  "kernelspec": {
   "display_name": "Python 3",
   "language": "python",
   "name": "python3"
  },
  "language_info": {
   "codemirror_mode": {
    "name": "ipython",
    "version": 3
   },
   "file_extension": ".py",
   "mimetype": "text/x-python",
   "name": "python",
   "nbconvert_exporter": "python",
   "pygments_lexer": "ipython3",
   "version": "3.8.8"
  }
 },
 "nbformat": 4,
 "nbformat_minor": 5
}
